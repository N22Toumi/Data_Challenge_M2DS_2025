{
 "cells": [
  {
   "cell_type": "markdown",
   "metadata": {},
   "source": [
    "<div style=\"text-align: center;\">\n",
    "    <a href=\"https://www.dataia.eu/\">\n",
    "        <img border=\"0\" src=\"https://github.com/ramp-kits/template-kit/raw/main/img/DATAIA-h.png\" width=\"90%\"></a>\n",
    "</div>\n",
    "\n",
    "# Template Kit for RAMP challenge\n",
    "\n",
    "<i> Thomas Moreau (Inria) </i>"
   ]
  },
  {
   "cell_type": "markdown",
   "metadata": {},
   "source": [
    "## Introduction\n",
    "\n",
    "Describe the challenge, in particular:\n",
    "\n",
    "- Where the data comes from?\n",
    "- What is the task this challenge aims to solve?\n",
    "- Why does it matter?"
   ]
  },
  {
   "cell_type": "markdown",
   "metadata": {},
   "source": [
    "# Exploratory data analysis\n",
    "\n",
    "The goal of this section is to show what's in the data, and how to play with it.\n",
    "This is the first set in any data science project, and here, you should give a sense of the data the participants will be working with.\n",
    "\n",
    "You can first load and describe the data, and then show some interesting properties of it."
   ]
  },
  {
   "cell_type": "code",
   "execution_count": 1,
   "metadata": {
    "ExecuteTime": {
     "end_time": "2025-03-05T13:53:01.523313Z",
     "start_time": "2025-03-05T13:52:59.921026Z"
    }
   },
   "outputs": [],
   "source": [
    "%matplotlib inline\n",
    "import numpy as np\n",
    "import pandas as pd\n",
    "import matplotlib.pyplot as plt\n",
    "pd.set_option('display.max_columns', None)\n",
    "\n",
    "# Load the data\n",
    "\n",
    "import problem\n",
    "X_df, y = problem.get_train_data()"
   ]
  },
  {
   "cell_type": "code",
   "outputs": [
    {
     "data": {
      "text/plain": "                     lights     T1       RH_1    T2       RH_2     T3  \\\ndate                                                                    \n2016-01-11 17:00:00      30  19.89  47.596667  19.2  44.790000  19.79   \n2016-01-11 17:10:00      30  19.89  46.693333  19.2  44.722500  19.79   \n2016-01-11 17:20:00      30  19.89  46.300000  19.2  44.626667  19.79   \n2016-01-11 17:30:00      40  19.89  46.066667  19.2  44.590000  19.79   \n2016-01-11 17:40:00      40  19.89  46.333333  19.2  44.530000  19.79   \n\n                          RH_3         T4       RH_4         T5   RH_5  \\\ndate                                                                     \n2016-01-11 17:00:00  44.730000  19.000000  45.566667  17.166667  55.20   \n2016-01-11 17:10:00  44.790000  19.000000  45.992500  17.166667  55.20   \n2016-01-11 17:20:00  44.933333  18.926667  45.890000  17.166667  55.09   \n2016-01-11 17:30:00  45.000000  18.890000  45.723333  17.166667  55.09   \n2016-01-11 17:40:00  45.000000  18.890000  45.530000  17.200000  55.09   \n\n                           T6       RH_6         T7       RH_7    T8  \\\ndate                                                                   \n2016-01-11 17:00:00  7.026667  84.256667  17.200000  41.626667  18.2   \n2016-01-11 17:10:00  6.833333  84.063333  17.200000  41.560000  18.2   \n2016-01-11 17:20:00  6.560000  83.156667  17.200000  41.433333  18.2   \n2016-01-11 17:30:00  6.433333  83.423333  17.133333  41.290000  18.1   \n2016-01-11 17:40:00  6.366667  84.893333  17.200000  41.230000  18.1   \n\n                          RH_8         T9   RH_9     T_out  Press_mm_hg  \\\ndate                                                                      \n2016-01-11 17:00:00  48.900000  17.033333  45.53  6.600000        733.5   \n2016-01-11 17:10:00  48.863333  17.066667  45.56  6.483333        733.6   \n2016-01-11 17:20:00  48.730000  17.000000  45.50  6.366667        733.7   \n2016-01-11 17:30:00  48.590000  17.000000  45.40  6.250000        733.8   \n2016-01-11 17:40:00  48.590000  17.000000  45.40  6.133333        733.9   \n\n                     RH_out  Windspeed  Visibility  Tdewpoint        rv1  \\\ndate                                                                       \n2016-01-11 17:00:00    92.0   7.000000   63.000000        5.3  13.275433   \n2016-01-11 17:10:00    92.0   6.666667   59.166667        5.2  18.606195   \n2016-01-11 17:20:00    92.0   6.333333   55.333333        5.1  28.642668   \n2016-01-11 17:30:00    92.0   6.000000   51.500000        5.0  45.410389   \n2016-01-11 17:40:00    92.0   5.666667   47.666667        4.9  10.084097   \n\n                           rv2  \ndate                            \n2016-01-11 17:00:00  13.275433  \n2016-01-11 17:10:00  18.606195  \n2016-01-11 17:20:00  28.642668  \n2016-01-11 17:30:00  45.410389  \n2016-01-11 17:40:00  10.084097  ",
      "text/html": "<div>\n<style scoped>\n    .dataframe tbody tr th:only-of-type {\n        vertical-align: middle;\n    }\n\n    .dataframe tbody tr th {\n        vertical-align: top;\n    }\n\n    .dataframe thead th {\n        text-align: right;\n    }\n</style>\n<table border=\"1\" class=\"dataframe\">\n  <thead>\n    <tr style=\"text-align: right;\">\n      <th></th>\n      <th>lights</th>\n      <th>T1</th>\n      <th>RH_1</th>\n      <th>T2</th>\n      <th>RH_2</th>\n      <th>T3</th>\n      <th>RH_3</th>\n      <th>T4</th>\n      <th>RH_4</th>\n      <th>T5</th>\n      <th>RH_5</th>\n      <th>T6</th>\n      <th>RH_6</th>\n      <th>T7</th>\n      <th>RH_7</th>\n      <th>T8</th>\n      <th>RH_8</th>\n      <th>T9</th>\n      <th>RH_9</th>\n      <th>T_out</th>\n      <th>Press_mm_hg</th>\n      <th>RH_out</th>\n      <th>Windspeed</th>\n      <th>Visibility</th>\n      <th>Tdewpoint</th>\n      <th>rv1</th>\n      <th>rv2</th>\n    </tr>\n    <tr>\n      <th>date</th>\n      <th></th>\n      <th></th>\n      <th></th>\n      <th></th>\n      <th></th>\n      <th></th>\n      <th></th>\n      <th></th>\n      <th></th>\n      <th></th>\n      <th></th>\n      <th></th>\n      <th></th>\n      <th></th>\n      <th></th>\n      <th></th>\n      <th></th>\n      <th></th>\n      <th></th>\n      <th></th>\n      <th></th>\n      <th></th>\n      <th></th>\n      <th></th>\n      <th></th>\n      <th></th>\n      <th></th>\n    </tr>\n  </thead>\n  <tbody>\n    <tr>\n      <th>2016-01-11 17:00:00</th>\n      <td>30</td>\n      <td>19.89</td>\n      <td>47.596667</td>\n      <td>19.2</td>\n      <td>44.790000</td>\n      <td>19.79</td>\n      <td>44.730000</td>\n      <td>19.000000</td>\n      <td>45.566667</td>\n      <td>17.166667</td>\n      <td>55.20</td>\n      <td>7.026667</td>\n      <td>84.256667</td>\n      <td>17.200000</td>\n      <td>41.626667</td>\n      <td>18.2</td>\n      <td>48.900000</td>\n      <td>17.033333</td>\n      <td>45.53</td>\n      <td>6.600000</td>\n      <td>733.5</td>\n      <td>92.0</td>\n      <td>7.000000</td>\n      <td>63.000000</td>\n      <td>5.3</td>\n      <td>13.275433</td>\n      <td>13.275433</td>\n    </tr>\n    <tr>\n      <th>2016-01-11 17:10:00</th>\n      <td>30</td>\n      <td>19.89</td>\n      <td>46.693333</td>\n      <td>19.2</td>\n      <td>44.722500</td>\n      <td>19.79</td>\n      <td>44.790000</td>\n      <td>19.000000</td>\n      <td>45.992500</td>\n      <td>17.166667</td>\n      <td>55.20</td>\n      <td>6.833333</td>\n      <td>84.063333</td>\n      <td>17.200000</td>\n      <td>41.560000</td>\n      <td>18.2</td>\n      <td>48.863333</td>\n      <td>17.066667</td>\n      <td>45.56</td>\n      <td>6.483333</td>\n      <td>733.6</td>\n      <td>92.0</td>\n      <td>6.666667</td>\n      <td>59.166667</td>\n      <td>5.2</td>\n      <td>18.606195</td>\n      <td>18.606195</td>\n    </tr>\n    <tr>\n      <th>2016-01-11 17:20:00</th>\n      <td>30</td>\n      <td>19.89</td>\n      <td>46.300000</td>\n      <td>19.2</td>\n      <td>44.626667</td>\n      <td>19.79</td>\n      <td>44.933333</td>\n      <td>18.926667</td>\n      <td>45.890000</td>\n      <td>17.166667</td>\n      <td>55.09</td>\n      <td>6.560000</td>\n      <td>83.156667</td>\n      <td>17.200000</td>\n      <td>41.433333</td>\n      <td>18.2</td>\n      <td>48.730000</td>\n      <td>17.000000</td>\n      <td>45.50</td>\n      <td>6.366667</td>\n      <td>733.7</td>\n      <td>92.0</td>\n      <td>6.333333</td>\n      <td>55.333333</td>\n      <td>5.1</td>\n      <td>28.642668</td>\n      <td>28.642668</td>\n    </tr>\n    <tr>\n      <th>2016-01-11 17:30:00</th>\n      <td>40</td>\n      <td>19.89</td>\n      <td>46.066667</td>\n      <td>19.2</td>\n      <td>44.590000</td>\n      <td>19.79</td>\n      <td>45.000000</td>\n      <td>18.890000</td>\n      <td>45.723333</td>\n      <td>17.166667</td>\n      <td>55.09</td>\n      <td>6.433333</td>\n      <td>83.423333</td>\n      <td>17.133333</td>\n      <td>41.290000</td>\n      <td>18.1</td>\n      <td>48.590000</td>\n      <td>17.000000</td>\n      <td>45.40</td>\n      <td>6.250000</td>\n      <td>733.8</td>\n      <td>92.0</td>\n      <td>6.000000</td>\n      <td>51.500000</td>\n      <td>5.0</td>\n      <td>45.410389</td>\n      <td>45.410389</td>\n    </tr>\n    <tr>\n      <th>2016-01-11 17:40:00</th>\n      <td>40</td>\n      <td>19.89</td>\n      <td>46.333333</td>\n      <td>19.2</td>\n      <td>44.530000</td>\n      <td>19.79</td>\n      <td>45.000000</td>\n      <td>18.890000</td>\n      <td>45.530000</td>\n      <td>17.200000</td>\n      <td>55.09</td>\n      <td>6.366667</td>\n      <td>84.893333</td>\n      <td>17.200000</td>\n      <td>41.230000</td>\n      <td>18.1</td>\n      <td>48.590000</td>\n      <td>17.000000</td>\n      <td>45.40</td>\n      <td>6.133333</td>\n      <td>733.9</td>\n      <td>92.0</td>\n      <td>5.666667</td>\n      <td>47.666667</td>\n      <td>4.9</td>\n      <td>10.084097</td>\n      <td>10.084097</td>\n    </tr>\n  </tbody>\n</table>\n</div>"
     },
     "execution_count": 2,
     "metadata": {},
     "output_type": "execute_result"
    }
   ],
   "source": [
    "X_df.head()"
   ],
   "metadata": {
    "collapsed": false,
    "ExecuteTime": {
     "end_time": "2025-03-05T13:53:01.555295Z",
     "start_time": "2025-03-05T13:53:01.525287Z"
    }
   },
   "execution_count": 2
  },
  {
   "cell_type": "markdown",
   "metadata": {},
   "source": [
    "# Challenge evaluation\n",
    "\n",
    "A particularly important point in a challenge is to describe how it is evaluated. This is the section where you should describe the metric that will be used to evaluate the participants' submissions, as well as your evaluation strategy, in particular if there is some complexity in the way the data should be split to ensure valid results."
   ]
  },
  {
   "cell_type": "markdown",
   "metadata": {},
   "source": [
    "# Submission format\n",
    "\n",
    "Here, you should describe the submission format. This is the format the participants should follow to submit their predictions on the RAMP plateform.\n",
    "\n",
    "This section also show how to use the `ramp-workflow` library to test the submission locally."
   ]
  },
  {
   "cell_type": "markdown",
   "metadata": {},
   "source": [
    "## The pipeline workflow\n",
    "\n",
    "The input data are stored in a dataframe. To go from a dataframe to a numpy array we will use a scikit-learn column transformer. The first example we will write will just consist in selecting a subset of columns we want to work with."
   ]
  },
  {
   "cell_type": "code",
   "execution_count": 3,
   "metadata": {
    "ExecuteTime": {
     "end_time": "2025-03-05T13:53:04.304548Z",
     "start_time": "2025-03-05T13:53:04.249529Z"
    }
   },
   "outputs": [],
   "source": [
    "from sklearn.linear_model import LinearRegression\n",
    "# %load submissions/starting_kit/estimator.py\n",
    "\n",
    "from sklearn.pipeline import make_pipeline\n",
    "from sklearn.preprocessing import StandardScaler\n",
    "\n",
    "\n",
    "def get_estimator():\n",
    "    pipe = make_pipeline(\n",
    "        StandardScaler(),\n",
    "        LinearRegression()\n",
    "    )\n",
    "\n",
    "    return pipe\n"
   ]
  },
  {
   "cell_type": "markdown",
   "metadata": {},
   "source": [
    "## Testing using a scikit-learn pipeline"
   ]
  },
  {
   "cell_type": "code",
   "execution_count": 4,
   "metadata": {
    "ExecuteTime": {
     "end_time": "2025-03-05T13:53:05.612739Z",
     "start_time": "2025-03-05T13:53:05.454723Z"
    }
   },
   "outputs": [
    {
     "name": "stdout",
     "output_type": "stream",
     "text": [
      "[-120.58674406  -95.17587005  -98.12879719  -93.47936336  -95.88683593]\n"
     ]
    }
   ],
   "source": [
    "from sklearn.model_selection import cross_val_score\n",
    "\n",
    "scores = cross_val_score(get_estimator(), X_df, y, cv=5, scoring='neg_root_mean_squared_error')\n",
    "print(scores)"
   ]
  },
  {
   "cell_type": "markdown",
   "metadata": {},
   "source": [
    "## Submission\n",
    "\n",
    "To submit your code, you can refer to the [online documentation](https://paris-saclay-cds.github.io/ramp-docs/ramp-workflow/stable/using_kits.html)."
   ]
  },
  {
   "cell_type": "code",
   "outputs": [],
   "source": [],
   "metadata": {
    "collapsed": false,
    "ExecuteTime": {
     "end_time": "2025-03-05T13:53:07.988841Z",
     "start_time": "2025-03-05T13:53:07.983834Z"
    }
   },
   "execution_count": 4
  },
  {
   "cell_type": "code",
   "outputs": [],
   "source": [],
   "metadata": {
    "collapsed": false
   }
  }
 ],
 "metadata": {
  "kernelspec": {
   "display_name": "base",
   "language": "python",
   "name": "python3"
  },
  "language_info": {
   "codemirror_mode": {
    "name": "ipython",
    "version": 3
   },
   "file_extension": ".py",
   "mimetype": "text/x-python",
   "name": "python",
   "nbconvert_exporter": "python",
   "pygments_lexer": "ipython3",
   "version": "3.12.6"
  }
 },
 "nbformat": 4,
 "nbformat_minor": 1
}
